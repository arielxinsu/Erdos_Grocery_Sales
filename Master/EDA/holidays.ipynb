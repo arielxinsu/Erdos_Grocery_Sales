{
 "cells": [
  {
   "cell_type": "code",
   "execution_count": null,
   "metadata": {},
   "outputs": [],
   "source": [
    "import pandas as pd\n",
    "import os\n",
    "import numpy as np\n",
    "\n",
    "import warnings\n",
    "\n",
    "warnings.filterwarnings(\"ignore\")\n",
    "\n",
    "import matplotlib.pyplot as plt"
   ]
  },
  {
   "cell_type": "code",
   "execution_count": 5,
   "metadata": {},
   "outputs": [],
   "source": [
    "import sys\n",
    "import os\n",
    "\n",
    "# Get the current folder path\n",
    "current_folder = os.getcwd()\n",
    "# Add the parent directory to sys.path\n",
    "parent_folder = os.path.abspath(os.path.join(current_folder, \"..\"))\n",
    "sys.path.append(parent_folder)\n",
    "\n",
    "# Import the utility module\n",
    "import utility  # Now you can use utility.py as a module import utility"
   ]
  },
  {
   "cell_type": "code",
   "execution_count": 6,
   "metadata": {},
   "outputs": [],
   "source": [
    "#import data: \n",
    "datapath = parent_folder  + '/Data/'\n",
    "holidays = pd.read_csv(datapath + 'holidays_events.csv')"
   ]
  },
  {
   "cell_type": "code",
   "execution_count": 7,
   "metadata": {},
   "outputs": [],
   "source": [
    "# Check how holidays are distributed every year. \n",
    "holidays['date'] = pd.to_datetime(holidays['date'])\n",
    "holidays['year'] = holidays.date.dt.year\n",
    "holidays['month-day'] = holidays['date'].dt.strftime('%m-%d')\n",
    "\n",
    "# Show all rows\n",
    "pd.set_option('display.max_rows', None)\n",
    "# First: National\n",
    "national = holidays[(holidays.locale == 'National') & (holidays.type == 'Holiday')]"
   ]
  },
  {
   "cell_type": "markdown",
   "metadata": {},
   "source": [
    "## Type of holidays \n",
    "The different types of holiday indicates for a particular store in a particlular day, it can be:\n",
    "\n",
    "- holiday, celebrated\n",
    "- holiday, not celebrated\n",
    "- not holiday, celebrated \n",
    "- not holiday, not celebrated\n",
    "- event\n",
    "\n",
    "\n",
    "We don't know if for a particular holiday, whether it's a day off or not is going to affect the sale. So I'll also add \"whether it's celebrated (day off)\" as a feature. \n",
    "\n",
    "## location and description \n",
    "There're three locations. Based on the location, we can determine wheter a particular store celebrate the holiday. \n",
    "\n",
    "Different holidays will likely have different shopping culture. Holidays should be considered separately. \n",
    "\n",
    "So at first glance, I will add three columns:\n",
    "- Local holiday (0 is none, 1 - 27 is the different discription of the holidays.)\n",
    "- Regional holiday (0 is None, 1 - 4 is four different holidays.)\n",
    "- National holiday (0 is None, 1 - 29 are different holidays.)\n",
    "- National Events (0 is None, 1 - 43 are different events.) \n",
    "  - Event is not recruiting. Hence it should be labeled separately. \n",
    "\n",
    "One problem, 2012-12-31\tis both Puente Primer dia del ano\t(Bridge) and Primer dia del ano-1\t(Additional)\n",
    "It termed out Puente Primer dia del ano\tmeans \"The bridge for new year\" , Primer dia del ano means \"new year eve\".\n",
    "\n",
    "Other than that, there's no overlapping holidays. \n",
    "\n",
    "Notice that \"Bridge\", \"Work Day\" and \"Transfer\" Changes every year based on the day of the week. \n",
    "While \"Additional\" only goes with the holiday it self. \n",
    "\n",
    "# Different holidays \n",
    "\n",
    "Not all holiday is repeated in the same day every year. "
   ]
  },
  {
   "cell_type": "code",
   "execution_count": 8,
   "metadata": {},
   "outputs": [],
   "source": [
    "\n",
    "table_national = national.pivot_table(index='month-day', columns='year', values='description', aggfunc=lambda x: ', '.join(x)).fillna(0)\n",
    "# print(table_national)"
   ]
  },
  {
   "cell_type": "code",
   "execution_count": 9,
   "metadata": {},
   "outputs": [],
   "source": [
    "# Then Regional \n",
    "Regional = holidays[(holidays.locale == 'Regional') & (holidays.type == 'Holiday')]\n",
    "table_regional = Regional.pivot_table(index='month-day', columns='year', values='description', aggfunc=lambda x: ', '.join(x)).fillna(0)\n",
    "# print(table_regional)"
   ]
  },
  {
   "cell_type": "code",
   "execution_count": 10,
   "metadata": {},
   "outputs": [],
   "source": [
    "# Finally, local: \n",
    "\n",
    "Local = holidays[(holidays.locale == 'Local') & (holidays.type == 'Holiday')]\n",
    "table_local = Local.pivot_table(index='month-day', columns='year', values='description', aggfunc=lambda x: ', '.join(x)).fillna(0)\n",
    "# print(table_local)"
   ]
  },
  {
   "cell_type": "markdown",
   "metadata": {},
   "source": [
    "Not All national holidays are of the same date. \\\n",
    "Regional holidays are of the day date. "
   ]
  },
  {
   "cell_type": "code",
   "execution_count": 11,
   "metadata": {},
   "outputs": [
    {
     "data": {
      "text/plain": [
       "10"
      ]
     },
     "execution_count": 11,
     "metadata": {},
     "output_type": "execute_result"
    }
   ],
   "source": [
    "len(national.description.unique())"
   ]
  },
  {
   "cell_type": "markdown",
   "metadata": {},
   "source": [
    "Local holiday is very wild. \n",
    "The  Fundacion de Guayaquil is celebrated in different ways every time. "
   ]
  },
  {
   "cell_type": "markdown",
   "metadata": {},
   "source": []
  },
  {
   "cell_type": "markdown",
   "metadata": {},
   "source": [
    "# Summary on holiday types \n",
    "\n",
    "Because how complicated the different holidays are, it's easier to use the holiday.csv as a table and not try to predict the holiday dates. \n",
    "\n",
    "Treat every discription separetly. \n",
    "To deal with 2012-12-31, label it as \"Primer dia del ano\" for now. Since new year eve affects more than just a \"bridge day\". (If any thing goes wrong, this is the \"error\" we introduce. )\n",
    "\n"
   ]
  },
  {
   "cell_type": "code",
   "execution_count": 12,
   "metadata": {},
   "outputs": [],
   "source": [
    "\n",
    "\n",
    "# Create a new dataset: \n",
    "Local_holidays = holidays[holidays.locale == 'Local']\n",
    "Local_holidays['local_holiday'] = Local_holidays['description']\n",
    "# Set 'Local_celebrated' to True where 'type' is 'Holiday'\n",
    "Local_holidays['Local_celebrated'] = Local_holidays['type'].isin(['Holiday','Bridge', 'Additional','Transfer'])\n",
    "# Update 'Local_celebrated' to False where 'transferred' is True\n",
    "Local_holidays.loc[Local_holidays['transferred'] == True, 'Local_celebrated'] = False\n",
    "# Take only the needed \n",
    "Local_holidays = Local_holidays[['date', 'local_holiday', 'locale_name','Local_celebrated']]\n",
    "\n",
    "# For regional too \n",
    "Regional_holidays = holidays[holidays.locale == 'Regional']\n",
    "Regional_holidays['Regional_holiday'] = Regional_holidays['description']\n",
    "# Set 'Local_celebrated' to True where 'type' is 'Holiday'\n",
    "Regional_holidays['Regional_celebrated'] = Regional_holidays['type'].isin(['Holiday','Bridge', 'Additional','Transfer'])\n",
    "# Update 'Local_celebrated' to False where 'transferred' is True\n",
    "Regional_holidays.loc[Regional_holidays['transferred'] == True, 'Regional_celebrated'] = False\n",
    "# Take only the needed \n",
    "Regional_holidays = Regional_holidays[['date', 'Regional_holiday', 'locale_name','Regional_celebrated']]\n",
    "\n",
    "# Same with National \n",
    "National_holidays = holidays[holidays.locale == 'National']\n",
    "National_holidays['National_holiday'] = National_holidays['description']\n",
    "# Set 'Local_celebrated' to True where 'type' is 'Holiday'\n",
    "National_holidays['National_celebrated'] = National_holidays['type'].isin(['Holiday','Bridge', 'Additional','Transfer'])\n",
    "# Update 'Local_celebrated' to False where 'transferred' is True\n",
    "National_holidays.loc[National_holidays['transferred'] == True, 'National_celebrated'] = False\n",
    "# Take only the needed \n",
    "National_holidays = National_holidays[['date', 'National_holiday', 'locale_name','National_celebrated']]\n"
   ]
  },
  {
   "cell_type": "markdown",
   "metadata": {},
   "source": [
    "# Study the effect of holidays \n",
    "\n",
    "Used the \"new\" merge for EDA purposes. "
   ]
  },
  {
   "cell_type": "code",
   "execution_count": null,
   "metadata": {},
   "outputs": [],
   "source": [
    "# Import the combined training file with the correct holiday merge. \n",
    "#import data: \n",
    "# datapath = os.getcwd() + '/Data/'\n",
    "#df = pd.read_csv(datapath + 'combined-2.csv')\n",
    "df = pd.read_csv(datapath + 'merged_train_alt_new.csv')"
   ]
  },
  {
   "cell_type": "code",
   "execution_count": 24,
   "metadata": {},
   "outputs": [],
   "source": [
    "# Uncomment this to see a summary of the df. \n",
    "#utility.summary(df)\n",
    "#utility.df_info(df)"
   ]
  },
  {
   "cell_type": "code",
   "execution_count": 25,
   "metadata": {},
   "outputs": [
    {
     "name": "stdout",
     "output_type": "stream",
     "text": [
      "               date  year  month  day  day_of_week    city       state  \\\n",
      "419265   2013-08-24  2013      8   24            5  Ambato  Tungurahua   \n",
      "1067913  2014-08-24  2014      8   24            6  Ambato  Tungurahua   \n",
      "1716561  2015-08-24  2015      8   24            0  Ambato  Tungurahua   \n",
      "2366991  2016-08-24  2016      8   24            2  Ambato  Tungurahua   \n",
      "\n",
      "         hol_Nat hol_Nat_name  hol_Reg hol_Reg_name  hol_Loc  \\\n",
      "419265       0.0          NaN      0.0          NaN      1.0   \n",
      "1067913      0.0          NaN      0.0          NaN      1.0   \n",
      "1716561      0.0          NaN      0.0          NaN      1.0   \n",
      "2366991      0.0          NaN      0.0          NaN      1.0   \n",
      "\n",
      "                hol_loc_name  transferred  \n",
      "419265   Fundacion de Ambato        False  \n",
      "1067913  Fundacion de Ambato        False  \n",
      "1716561  Fundacion de Ambato        False  \n",
      "2366991  Fundacion de Ambato        False  \n"
     ]
    }
   ],
   "source": [
    "df_hol = df[(df.hol_Nat == 1) | (df.hol_Reg == 1) | (df.hol_Loc == 1)  ]\n",
    "df_hol = df_hol[['date', 'year','month','day','day_of_week','city','state','hol_Nat','hol_Nat_name',\n",
    "                 'hol_Reg','hol_Reg_name','hol_Loc','hol_loc_name','transferred']]\n",
    "df_hol = df_hol.drop_duplicates() \n",
    "# Check if there's holiday in Aug after 15: \n",
    "print(df_hol[(df_hol.month == 8) & (df_hol.day > 15)])"
   ]
  },
  {
   "cell_type": "code",
   "execution_count": 17,
   "metadata": {},
   "outputs": [
    {
     "data": {
      "text/html": [
       "<div>\n",
       "<style scoped>\n",
       "    .dataframe tbody tr th:only-of-type {\n",
       "        vertical-align: middle;\n",
       "    }\n",
       "\n",
       "    .dataframe tbody tr th {\n",
       "        vertical-align: top;\n",
       "    }\n",
       "\n",
       "    .dataframe thead th {\n",
       "        text-align: right;\n",
       "    }\n",
       "</style>\n",
       "<table border=\"1\" class=\"dataframe\">\n",
       "  <thead>\n",
       "    <tr style=\"text-align: right;\">\n",
       "      <th></th>\n",
       "      <th>date</th>\n",
       "      <th>type</th>\n",
       "      <th>locale</th>\n",
       "      <th>locale_name</th>\n",
       "      <th>description</th>\n",
       "      <th>transferred</th>\n",
       "      <th>year</th>\n",
       "      <th>month-day</th>\n",
       "    </tr>\n",
       "  </thead>\n",
       "  <tbody>\n",
       "    <tr>\n",
       "      <th>16</th>\n",
       "      <td>2012-08-24</td>\n",
       "      <td>Holiday</td>\n",
       "      <td>Local</td>\n",
       "      <td>Ambato</td>\n",
       "      <td>Fundacion de Ambato</td>\n",
       "      <td>False</td>\n",
       "      <td>2012</td>\n",
       "      <td>08-24</td>\n",
       "    </tr>\n",
       "    <tr>\n",
       "      <th>69</th>\n",
       "      <td>2013-08-24</td>\n",
       "      <td>Holiday</td>\n",
       "      <td>Local</td>\n",
       "      <td>Ambato</td>\n",
       "      <td>Fundacion de Ambato</td>\n",
       "      <td>False</td>\n",
       "      <td>2013</td>\n",
       "      <td>08-24</td>\n",
       "    </tr>\n",
       "    <tr>\n",
       "      <th>132</th>\n",
       "      <td>2014-08-24</td>\n",
       "      <td>Holiday</td>\n",
       "      <td>Local</td>\n",
       "      <td>Ambato</td>\n",
       "      <td>Fundacion de Ambato</td>\n",
       "      <td>False</td>\n",
       "      <td>2014</td>\n",
       "      <td>08-24</td>\n",
       "    </tr>\n",
       "    <tr>\n",
       "      <th>187</th>\n",
       "      <td>2015-08-24</td>\n",
       "      <td>Holiday</td>\n",
       "      <td>Local</td>\n",
       "      <td>Ambato</td>\n",
       "      <td>Fundacion de Ambato</td>\n",
       "      <td>False</td>\n",
       "      <td>2015</td>\n",
       "      <td>08-24</td>\n",
       "    </tr>\n",
       "    <tr>\n",
       "      <th>271</th>\n",
       "      <td>2016-08-24</td>\n",
       "      <td>Holiday</td>\n",
       "      <td>Local</td>\n",
       "      <td>Ambato</td>\n",
       "      <td>Fundacion de Ambato</td>\n",
       "      <td>False</td>\n",
       "      <td>2016</td>\n",
       "      <td>08-24</td>\n",
       "    </tr>\n",
       "    <tr>\n",
       "      <th>327</th>\n",
       "      <td>2017-08-24</td>\n",
       "      <td>Holiday</td>\n",
       "      <td>Local</td>\n",
       "      <td>Ambato</td>\n",
       "      <td>Fundacion de Ambato</td>\n",
       "      <td>False</td>\n",
       "      <td>2017</td>\n",
       "      <td>08-24</td>\n",
       "    </tr>\n",
       "  </tbody>\n",
       "</table>\n",
       "</div>"
      ],
      "text/plain": [
       "          date     type locale locale_name          description  transferred  \\\n",
       "16  2012-08-24  Holiday  Local      Ambato  Fundacion de Ambato        False   \n",
       "69  2013-08-24  Holiday  Local      Ambato  Fundacion de Ambato        False   \n",
       "132 2014-08-24  Holiday  Local      Ambato  Fundacion de Ambato        False   \n",
       "187 2015-08-24  Holiday  Local      Ambato  Fundacion de Ambato        False   \n",
       "271 2016-08-24  Holiday  Local      Ambato  Fundacion de Ambato        False   \n",
       "327 2017-08-24  Holiday  Local      Ambato  Fundacion de Ambato        False   \n",
       "\n",
       "     year month-day  \n",
       "16   2012     08-24  \n",
       "69   2013     08-24  \n",
       "132  2014     08-24  \n",
       "187  2015     08-24  \n",
       "271  2016     08-24  \n",
       "327  2017     08-24  "
      ]
     },
     "execution_count": 17,
     "metadata": {},
     "output_type": "execute_result"
    }
   ],
   "source": [
    "#Confirm with the orginal holiday csv:\n",
    "holidays[holidays['month-day'] == '08-24']"
   ]
  },
  {
   "cell_type": "code",
   "execution_count": 26,
   "metadata": {},
   "outputs": [
    {
     "data": {
      "text/plain": [
       "array([23, 50])"
      ]
     },
     "execution_count": 26,
     "metadata": {},
     "output_type": "execute_result"
    }
   ],
   "source": [
    "# Check how many stores are affected.\n",
    "df[df.hol_loc_name == 'Fundacion de Ambato'].store_nbr.unique()"
   ]
  },
  {
   "cell_type": "markdown",
   "metadata": {},
   "source": [
    "## Observation 1:\n",
    "For kaggle competition purposes: \n",
    "\n",
    "We only have to predict for 2017 Aug 16 - Aug 31, only **Aug 24** is a local holiday. \n",
    "\n",
    "And it is a **Thursday**. \n",
    "\n",
    "Only the city Ambato is affected with stores #23 and #50. "
   ]
  },
  {
   "cell_type": "code",
   "execution_count": null,
   "metadata": {},
   "outputs": [],
   "source": []
  },
  {
   "cell_type": "markdown",
   "metadata": {},
   "source": [
    "## Other holiday affects \n",
    "\n",
    "### 1. Do all holidays affect sales for all the items in the same way?\n"
   ]
  },
  {
   "cell_type": "code",
   "execution_count": null,
   "metadata": {},
   "outputs": [],
   "source": [
    "#df_hol_all = df[(df.hol_Nat == 1) | (df.hol_Reg == 1) | (df.hol_Loc == 1)  ]\n",
    "#df_hol_true = df_hol_all[(df_hol_all.hol_type_Holiday == 1) & (df_hol_all.transferred.isin([False, 'False']) ) ]  # Only those holidays + celebrated\n"
   ]
  },
  {
   "cell_type": "code",
   "execution_count": null,
   "metadata": {},
   "outputs": [],
   "source": [
    "# Check holidays:\n",
    "#df_hol_all.transferred.unique()\n",
    "# The transferred is not right. So for the following code I figured it manually"
   ]
  },
  {
   "cell_type": "code",
   "execution_count": null,
   "metadata": {},
   "outputs": [],
   "source": [
    "# print(df_hol_true)\n",
    "#utility.summary(df_hol_all)"
   ]
  },
  {
   "cell_type": "markdown",
   "metadata": {},
   "source": [
    "For the following plot: \n",
    "\n",
    "- For each holiday, calculate the average sale for that holiday for the stores involved.\n",
    "- Calculate the average sale for the stores invovled (in that state/city) that's not on holiday/event.\n",
    "- Calculate (holiday sale / non_holiday sale) \n",
    "\n",
    "This process is shown for each item separately then shown in figure.\n",
    "\n",
    "\n",
    "It's important to note that I use only non-zero values for average calculation. Most of the zero sales indicate the specific family is not for sale at that time. Averaging over zeros can cause errors. "
   ]
  },
  {
   "cell_type": "code",
   "execution_count": 27,
   "metadata": {},
   "outputs": [
    {
     "name": "stdout",
     "output_type": "stream",
     "text": [
      "Empty holiday name: nan\n"
     ]
    },
    {
     "ename": "KeyboardInterrupt",
     "evalue": "",
     "output_type": "error",
     "traceback": [
      "\u001b[0;31m---------------------------------------------------------------------------\u001b[0m",
      "\u001b[0;31mKeyboardInterrupt\u001b[0m                         Traceback (most recent call last)",
      "Cell \u001b[0;32mIn[27], line 22\u001b[0m\n\u001b[1;32m     20\u001b[0m average_sales_hol \u001b[38;5;241m=\u001b[39m df_hol_all\u001b[38;5;241m.\u001b[39mloc[(df_hol_all\u001b[38;5;241m.\u001b[39mfamily \u001b[38;5;241m==\u001b[39m item) \u001b[38;5;241m&\u001b[39m (df_hol_all\u001b[38;5;241m.\u001b[39mhol_Reg_name \u001b[38;5;241m==\u001b[39m hol) \u001b[38;5;241m&\u001b[39m (df_hol_all\u001b[38;5;241m.\u001b[39msales \u001b[38;5;241m!=\u001b[39m \u001b[38;5;241m0\u001b[39m),\u001b[38;5;124m'\u001b[39m\u001b[38;5;124msales\u001b[39m\u001b[38;5;124m'\u001b[39m]\u001b[38;5;241m.\u001b[39mmean()\n\u001b[1;32m     21\u001b[0m \u001b[38;5;66;03m# Average sales for the same state during non-holiday times\u001b[39;00m\n\u001b[0;32m---> 22\u001b[0m average_sales_non \u001b[38;5;241m=\u001b[39m df_non_hol\u001b[38;5;241m.\u001b[39mloc[\u001b[43m(\u001b[49m\u001b[43mdf\u001b[49m\u001b[38;5;241;43m.\u001b[39;49m\u001b[43mfamily\u001b[49m\u001b[43m \u001b[49m\u001b[38;5;241;43m==\u001b[39;49m\u001b[43m \u001b[49m\u001b[43mitem\u001b[49m\u001b[43m)\u001b[49m\u001b[43m  \u001b[49m\u001b[38;5;241;43m&\u001b[39;49m\u001b[43m \u001b[49m\u001b[43m(\u001b[49m\u001b[43mdf_non_hol\u001b[49m\u001b[38;5;241;43m.\u001b[39;49m\u001b[43mstate\u001b[49m\u001b[43m \u001b[49m\u001b[38;5;241;43m==\u001b[39;49m\u001b[43m \u001b[49m\u001b[43mstate\u001b[49m\u001b[43m)\u001b[49m  \u001b[38;5;241m&\u001b[39m (df\u001b[38;5;241m.\u001b[39msales \u001b[38;5;241m!=\u001b[39m \u001b[38;5;241m0\u001b[39m) , \u001b[38;5;124m'\u001b[39m\u001b[38;5;124msales\u001b[39m\u001b[38;5;124m'\u001b[39m]\u001b[38;5;241m.\u001b[39mmean()\n\u001b[1;32m     23\u001b[0m \u001b[38;5;66;03m# Calculate the percentage change and update the DataFrame\u001b[39;00m\n\u001b[1;32m     24\u001b[0m df_sale_regional\u001b[38;5;241m.\u001b[39mloc[df_sale_regional[\u001b[38;5;124m'\u001b[39m\u001b[38;5;124mfamily\u001b[39m\u001b[38;5;124m'\u001b[39m] \u001b[38;5;241m==\u001b[39m item, hol] \u001b[38;5;241m=\u001b[39m (average_sales_hol \u001b[38;5;241m/\u001b[39m average_sales_non)\n",
      "File \u001b[0;32m~/anaconda3/envs/erdos_fall_2024/lib/python3.12/site-packages/pandas/core/ops/common.py:76\u001b[0m, in \u001b[0;36m_unpack_zerodim_and_defer.<locals>.new_method\u001b[0;34m(self, other)\u001b[0m\n\u001b[1;32m     72\u001b[0m             \u001b[38;5;28;01mreturn\u001b[39;00m \u001b[38;5;28mNotImplemented\u001b[39m\n\u001b[1;32m     74\u001b[0m other \u001b[38;5;241m=\u001b[39m item_from_zerodim(other)\n\u001b[0;32m---> 76\u001b[0m \u001b[38;5;28;01mreturn\u001b[39;00m \u001b[43mmethod\u001b[49m\u001b[43m(\u001b[49m\u001b[38;5;28;43mself\u001b[39;49m\u001b[43m,\u001b[49m\u001b[43m \u001b[49m\u001b[43mother\u001b[49m\u001b[43m)\u001b[49m\n",
      "File \u001b[0;32m~/anaconda3/envs/erdos_fall_2024/lib/python3.12/site-packages/pandas/core/arraylike.py:70\u001b[0m, in \u001b[0;36mOpsMixin.__and__\u001b[0;34m(self, other)\u001b[0m\n\u001b[1;32m     68\u001b[0m \u001b[38;5;129m@unpack_zerodim_and_defer\u001b[39m(\u001b[38;5;124m\"\u001b[39m\u001b[38;5;124m__and__\u001b[39m\u001b[38;5;124m\"\u001b[39m)\n\u001b[1;32m     69\u001b[0m \u001b[38;5;28;01mdef\u001b[39;00m \u001b[38;5;21m__and__\u001b[39m(\u001b[38;5;28mself\u001b[39m, other):\n\u001b[0;32m---> 70\u001b[0m     \u001b[38;5;28;01mreturn\u001b[39;00m \u001b[38;5;28;43mself\u001b[39;49m\u001b[38;5;241;43m.\u001b[39;49m\u001b[43m_logical_method\u001b[49m\u001b[43m(\u001b[49m\u001b[43mother\u001b[49m\u001b[43m,\u001b[49m\u001b[43m \u001b[49m\u001b[43moperator\u001b[49m\u001b[38;5;241;43m.\u001b[39;49m\u001b[43mand_\u001b[49m\u001b[43m)\u001b[49m\n",
      "File \u001b[0;32m~/anaconda3/envs/erdos_fall_2024/lib/python3.12/site-packages/pandas/core/series.py:6130\u001b[0m, in \u001b[0;36mSeries._logical_method\u001b[0;34m(self, other, op)\u001b[0m\n\u001b[1;32m   6127\u001b[0m lvalues \u001b[38;5;241m=\u001b[39m \u001b[38;5;28mself\u001b[39m\u001b[38;5;241m.\u001b[39m_values\n\u001b[1;32m   6128\u001b[0m rvalues \u001b[38;5;241m=\u001b[39m extract_array(other, extract_numpy\u001b[38;5;241m=\u001b[39m\u001b[38;5;28;01mTrue\u001b[39;00m, extract_range\u001b[38;5;241m=\u001b[39m\u001b[38;5;28;01mTrue\u001b[39;00m)\n\u001b[0;32m-> 6130\u001b[0m res_values \u001b[38;5;241m=\u001b[39m \u001b[43mops\u001b[49m\u001b[38;5;241;43m.\u001b[39;49m\u001b[43mlogical_op\u001b[49m\u001b[43m(\u001b[49m\u001b[43mlvalues\u001b[49m\u001b[43m,\u001b[49m\u001b[43m \u001b[49m\u001b[43mrvalues\u001b[49m\u001b[43m,\u001b[49m\u001b[43m \u001b[49m\u001b[43mop\u001b[49m\u001b[43m)\u001b[49m\n\u001b[1;32m   6131\u001b[0m \u001b[38;5;28;01mreturn\u001b[39;00m \u001b[38;5;28mself\u001b[39m\u001b[38;5;241m.\u001b[39m_construct_result(res_values, name\u001b[38;5;241m=\u001b[39mres_name)\n",
      "File \u001b[0;32m~/anaconda3/envs/erdos_fall_2024/lib/python3.12/site-packages/pandas/core/ops/array_ops.py:459\u001b[0m, in \u001b[0;36mlogical_op\u001b[0;34m(left, right, op)\u001b[0m\n\u001b[1;32m    456\u001b[0m     \u001b[38;5;66;03m# For int vs int `^`, `|`, `&` are bitwise operators and return\u001b[39;00m\n\u001b[1;32m    457\u001b[0m     \u001b[38;5;66;03m#   integer dtypes.  Otherwise these are boolean ops\u001b[39;00m\n\u001b[1;32m    458\u001b[0m     \u001b[38;5;28;01mif\u001b[39;00m \u001b[38;5;129;01mnot\u001b[39;00m (left\u001b[38;5;241m.\u001b[39mdtype\u001b[38;5;241m.\u001b[39mkind \u001b[38;5;129;01min\u001b[39;00m \u001b[38;5;124m\"\u001b[39m\u001b[38;5;124miu\u001b[39m\u001b[38;5;124m\"\u001b[39m \u001b[38;5;129;01mand\u001b[39;00m is_other_int_dtype):\n\u001b[0;32m--> 459\u001b[0m         res_values \u001b[38;5;241m=\u001b[39m \u001b[43mfill_bool\u001b[49m\u001b[43m(\u001b[49m\u001b[43mres_values\u001b[49m\u001b[43m)\u001b[49m\n\u001b[1;32m    461\u001b[0m \u001b[38;5;28;01mreturn\u001b[39;00m res_values\n",
      "File \u001b[0;32m~/anaconda3/envs/erdos_fall_2024/lib/python3.12/site-packages/pandas/core/ops/array_ops.py:414\u001b[0m, in \u001b[0;36mlogical_op.<locals>.fill_bool\u001b[0;34m(x, left)\u001b[0m\n\u001b[1;32m    410\u001b[0m \u001b[38;5;28;01mdef\u001b[39;00m \u001b[38;5;21mfill_bool\u001b[39m(x, left\u001b[38;5;241m=\u001b[39m\u001b[38;5;28;01mNone\u001b[39;00m):\n\u001b[1;32m    411\u001b[0m     \u001b[38;5;66;03m# if `left` is specifically not-boolean, we do not cast to bool\u001b[39;00m\n\u001b[1;32m    412\u001b[0m     \u001b[38;5;28;01mif\u001b[39;00m x\u001b[38;5;241m.\u001b[39mdtype\u001b[38;5;241m.\u001b[39mkind \u001b[38;5;129;01min\u001b[39;00m \u001b[38;5;124m\"\u001b[39m\u001b[38;5;124mcfO\u001b[39m\u001b[38;5;124m\"\u001b[39m:\n\u001b[1;32m    413\u001b[0m         \u001b[38;5;66;03m# dtypes that can hold NA\u001b[39;00m\n\u001b[0;32m--> 414\u001b[0m         mask \u001b[38;5;241m=\u001b[39m \u001b[43misna\u001b[49m\u001b[43m(\u001b[49m\u001b[43mx\u001b[49m\u001b[43m)\u001b[49m\n\u001b[1;32m    415\u001b[0m         \u001b[38;5;28;01mif\u001b[39;00m mask\u001b[38;5;241m.\u001b[39many():\n\u001b[1;32m    416\u001b[0m             x \u001b[38;5;241m=\u001b[39m x\u001b[38;5;241m.\u001b[39mastype(\u001b[38;5;28mobject\u001b[39m)\n",
      "File \u001b[0;32m~/anaconda3/envs/erdos_fall_2024/lib/python3.12/site-packages/pandas/core/dtypes/missing.py:178\u001b[0m, in \u001b[0;36misna\u001b[0;34m(obj)\u001b[0m\n\u001b[1;32m    101\u001b[0m \u001b[38;5;28;01mdef\u001b[39;00m \u001b[38;5;21misna\u001b[39m(obj: \u001b[38;5;28mobject\u001b[39m) \u001b[38;5;241m-\u001b[39m\u001b[38;5;241m>\u001b[39m \u001b[38;5;28mbool\u001b[39m \u001b[38;5;241m|\u001b[39m npt\u001b[38;5;241m.\u001b[39mNDArray[np\u001b[38;5;241m.\u001b[39mbool_] \u001b[38;5;241m|\u001b[39m NDFrame:\n\u001b[1;32m    102\u001b[0m \u001b[38;5;250m    \u001b[39m\u001b[38;5;124;03m\"\"\"\u001b[39;00m\n\u001b[1;32m    103\u001b[0m \u001b[38;5;124;03m    Detect missing values for an array-like object.\u001b[39;00m\n\u001b[1;32m    104\u001b[0m \n\u001b[0;32m   (...)\u001b[0m\n\u001b[1;32m    176\u001b[0m \u001b[38;5;124;03m    Name: 1, dtype: bool\u001b[39;00m\n\u001b[1;32m    177\u001b[0m \u001b[38;5;124;03m    \"\"\"\u001b[39;00m\n\u001b[0;32m--> 178\u001b[0m     \u001b[38;5;28;01mreturn\u001b[39;00m \u001b[43m_isna\u001b[49m\u001b[43m(\u001b[49m\u001b[43mobj\u001b[49m\u001b[43m)\u001b[49m\n",
      "File \u001b[0;32m~/anaconda3/envs/erdos_fall_2024/lib/python3.12/site-packages/pandas/core/dtypes/missing.py:207\u001b[0m, in \u001b[0;36m_isna\u001b[0;34m(obj, inf_as_na)\u001b[0m\n\u001b[1;32m    205\u001b[0m     \u001b[38;5;28;01mreturn\u001b[39;00m \u001b[38;5;28;01mFalse\u001b[39;00m\n\u001b[1;32m    206\u001b[0m \u001b[38;5;28;01melif\u001b[39;00m \u001b[38;5;28misinstance\u001b[39m(obj, (np\u001b[38;5;241m.\u001b[39mndarray, ABCExtensionArray)):\n\u001b[0;32m--> 207\u001b[0m     \u001b[38;5;28;01mreturn\u001b[39;00m \u001b[43m_isna_array\u001b[49m\u001b[43m(\u001b[49m\u001b[43mobj\u001b[49m\u001b[43m,\u001b[49m\u001b[43m \u001b[49m\u001b[43minf_as_na\u001b[49m\u001b[38;5;241;43m=\u001b[39;49m\u001b[43minf_as_na\u001b[49m\u001b[43m)\u001b[49m\n\u001b[1;32m    208\u001b[0m \u001b[38;5;28;01melif\u001b[39;00m \u001b[38;5;28misinstance\u001b[39m(obj, ABCIndex):\n\u001b[1;32m    209\u001b[0m     \u001b[38;5;66;03m# Try to use cached isna, which also short-circuits for integer dtypes\u001b[39;00m\n\u001b[1;32m    210\u001b[0m     \u001b[38;5;66;03m#  and avoids materializing RangeIndex._values\u001b[39;00m\n\u001b[1;32m    211\u001b[0m     \u001b[38;5;28;01mif\u001b[39;00m \u001b[38;5;129;01mnot\u001b[39;00m obj\u001b[38;5;241m.\u001b[39m_can_hold_na:\n",
      "File \u001b[0;32m~/anaconda3/envs/erdos_fall_2024/lib/python3.12/site-packages/pandas/core/dtypes/missing.py:292\u001b[0m, in \u001b[0;36m_isna_array\u001b[0;34m(values, inf_as_na)\u001b[0m\n\u001b[1;32m    290\u001b[0m     result \u001b[38;5;241m=\u001b[39m _isna_recarray_dtype(values, inf_as_na\u001b[38;5;241m=\u001b[39minf_as_na)\n\u001b[1;32m    291\u001b[0m \u001b[38;5;28;01melif\u001b[39;00m is_string_or_object_np_dtype(values\u001b[38;5;241m.\u001b[39mdtype):\n\u001b[0;32m--> 292\u001b[0m     result \u001b[38;5;241m=\u001b[39m \u001b[43m_isna_string_dtype\u001b[49m\u001b[43m(\u001b[49m\u001b[43mvalues\u001b[49m\u001b[43m,\u001b[49m\u001b[43m \u001b[49m\u001b[43minf_as_na\u001b[49m\u001b[38;5;241;43m=\u001b[39;49m\u001b[43minf_as_na\u001b[49m\u001b[43m)\u001b[49m\n\u001b[1;32m    293\u001b[0m \u001b[38;5;28;01melif\u001b[39;00m dtype\u001b[38;5;241m.\u001b[39mkind \u001b[38;5;129;01min\u001b[39;00m \u001b[38;5;124m\"\u001b[39m\u001b[38;5;124mmM\u001b[39m\u001b[38;5;124m\"\u001b[39m:\n\u001b[1;32m    294\u001b[0m     \u001b[38;5;66;03m# this is the NaT pattern\u001b[39;00m\n\u001b[1;32m    295\u001b[0m     result \u001b[38;5;241m=\u001b[39m values\u001b[38;5;241m.\u001b[39mview(\u001b[38;5;124m\"\u001b[39m\u001b[38;5;124mi8\u001b[39m\u001b[38;5;124m\"\u001b[39m) \u001b[38;5;241m==\u001b[39m iNaT\n",
      "File \u001b[0;32m~/anaconda3/envs/erdos_fall_2024/lib/python3.12/site-packages/pandas/core/dtypes/missing.py:313\u001b[0m, in \u001b[0;36m_isna_string_dtype\u001b[0;34m(values, inf_as_na)\u001b[0m\n\u001b[1;32m    311\u001b[0m \u001b[38;5;28;01melse\u001b[39;00m:\n\u001b[1;32m    312\u001b[0m     \u001b[38;5;28;01mif\u001b[39;00m values\u001b[38;5;241m.\u001b[39mndim \u001b[38;5;129;01min\u001b[39;00m {\u001b[38;5;241m1\u001b[39m, \u001b[38;5;241m2\u001b[39m}:\n\u001b[0;32m--> 313\u001b[0m         result \u001b[38;5;241m=\u001b[39m \u001b[43mlibmissing\u001b[49m\u001b[38;5;241;43m.\u001b[39;49m\u001b[43misnaobj\u001b[49m\u001b[43m(\u001b[49m\u001b[43mvalues\u001b[49m\u001b[43m,\u001b[49m\u001b[43m \u001b[49m\u001b[43minf_as_na\u001b[49m\u001b[38;5;241;43m=\u001b[39;49m\u001b[43minf_as_na\u001b[49m\u001b[43m)\u001b[49m\n\u001b[1;32m    314\u001b[0m     \u001b[38;5;28;01melse\u001b[39;00m:\n\u001b[1;32m    315\u001b[0m         \u001b[38;5;66;03m# 0-D, reached via e.g. mask_missing\u001b[39;00m\n\u001b[1;32m    316\u001b[0m         result \u001b[38;5;241m=\u001b[39m libmissing\u001b[38;5;241m.\u001b[39misnaobj(values\u001b[38;5;241m.\u001b[39mravel(), inf_as_na\u001b[38;5;241m=\u001b[39minf_as_na)\n",
      "\u001b[0;31mKeyboardInterrupt\u001b[0m: "
     ]
    }
   ],
   "source": [
    "# THe above is not the right way to deal with this. \n",
    "# Every holiday affect should be compared with their stores separately. \n",
    "\n",
    "df_non_hol = df[(df.hol_Nat == 0) & (df.hol_Reg == 0) & (df.hol_Loc == 0) &  (df.event == 0)]\n",
    "df_hol_all = df[(df.hol_Nat == 1) | (df.hol_Reg == 1) | (df.hol_Loc == 1) ]\n",
    "\n",
    "all_items = df['family'].unique()\n",
    "df_sale_regional = pd.DataFrame({'family': all_items})\n",
    "\n",
    "\n",
    "for hol in df_hol_all.hol_Reg_name.unique():\n",
    "    if  pd.isna(hol):\n",
    "        print(\"Empty holiday name:\", hol)\n",
    "        continue\n",
    "    # Calculate the average for each item: \n",
    "    state = df_hol_all[df_hol_all.hol_Reg_name == hol].state.unique()[0]  # Take the state name \n",
    "    for item in all_items:\n",
    "\n",
    "        # Average sales during the holiday\n",
    "        average_sales_hol = df_hol_all.loc[(df_hol_all.family == item) & (df_hol_all.hol_Reg_name == hol) & (df_hol_all.sales != 0),'sales'].mean()\n",
    "        # Average sales for the same state during non-holiday times\n",
    "        average_sales_non = df_non_hol.loc[(df.family == item)  & (df_non_hol.state == state)  & (df.sales != 0) , 'sales'].mean()\n",
    "        # Calculate the percentage change and update the DataFrame\n",
    "        df_sale_regional.loc[df_sale_regional['family'] == item, hol] = (average_sales_hol / average_sales_non)\n",
    "#print(df_sale)\n"
   ]
  },
  {
   "cell_type": "code",
   "execution_count": null,
   "metadata": {},
   "outputs": [],
   "source": [
    "#df_sale_regional\n",
    "\n",
    "import pandas as pd\n",
    "import seaborn as sns\n",
    "import matplotlib.pyplot as plt\n",
    "\n",
    "df_sale_regional.set_index('family', inplace=True)\n",
    "\n",
    "\n",
    "plt.figure(figsize=(12, 8))\n",
    "sns.heatmap(df_sale_regional, annot=True, cmap='coolwarm', fmt=\".2f\", vmin = -0.5, vmax = 2.5)\n",
    "plt.title(\"Ratio of Sales During Regional Holidays versus Normal days\", fontsize=16)\n",
    "plt.xlabel(\"Holiday\")\n",
    "plt.ylabel(\"Family\")\n",
    "plt.xticks(rotation=45, ha=\"right\")\n",
    "plt.tight_layout()"
   ]
  },
  {
   "cell_type": "markdown",
   "metadata": {},
   "source": [
    "### Regional holidays:\n",
    "\n",
    "The **Provincialización de Cotopaxi** is a holiday celebrated in the Cotopaxi province of Ecuador on April 1 each year. It marks the anniversary of Cotopaxi being declared a province, which happened on April 1, 1851.\n",
    "\n",
    "This holiday boost almost all sales. \n",
    "\n",
    "\n",
    "The Provincialización for the other states didn't seem to affect the sales as much. \n",
    "\n",
    "But provincializacion for Santo Domingo has a strong sales boost for books. Could be due to lack of useful data points. \n",
    "\n"
   ]
  },
  {
   "cell_type": "code",
   "execution_count": null,
   "metadata": {},
   "outputs": [],
   "source": []
  },
  {
   "cell_type": "markdown",
   "metadata": {},
   "source": [
    "### Local Holidays "
   ]
  },
  {
   "cell_type": "code",
   "execution_count": null,
   "metadata": {},
   "outputs": [],
   "source": [
    "\n",
    "# Every holiday affect should be compared with their stores separately. \n",
    "\n",
    "# Take sub Data frames \n",
    "#df_non_hol = df[(df.hol_Nat == 0) & (df.hol_Reg == 0) & (df.hol_Loc == 0) &  (df.event == 0)]\n",
    "#df_hol_all = df[(df.hol_Nat == 1) | (df.hol_Reg == 1) | (df.hol_Loc == 1) ]\n",
    "df_hol_true = df_hol_all[ df_hol_all.transferred == False  ]  # Get rid of the transferred holidays\n",
    "\n",
    "\n",
    "# Initiate the df \n",
    "all_items = df['family'].unique()\n",
    "df_sale_local = pd.DataFrame({'family': all_items})\n",
    "\n",
    "\n",
    "for hol in df_hol_true.hol_loc_name.unique():\n",
    "    if  pd.isna(hol):\n",
    "        print(\"Empty holiday name:\", hol)\n",
    "        continue\n",
    "    # Calculate the average for each item: \n",
    "    city = df_hol_true[df_hol_true.hol_loc_name == hol].city.unique()[0]  # Take the state name \n",
    "    for item in all_items:\n",
    "\n",
    "        # Average sales during the holiday\n",
    "        average_sales_hol = df_hol_true.loc[(df_hol_true.family == item) & (df_hol_true.hol_loc_name == hol) & (df_hol_true.sales != 0),'sales'].mean()\n",
    "        # Average sales for the same state during non-holiday times\n",
    "        average_sales_non = df_non_hol.loc[(df.family == item)  & (df_non_hol.city == city)  & (df.sales != 0) , 'sales'].mean()\n",
    "        # Calculate the percentage change and update the DataFrame\n",
    "        df_sale_local.loc[df_sale_local['family'] == item, hol] = (average_sales_hol / average_sales_non)\n",
    "\n"
   ]
  },
  {
   "cell_type": "code",
   "execution_count": null,
   "metadata": {},
   "outputs": [],
   "source": [
    "# uncomment this to see the actual dataset\n",
    "#df_sale_local"
   ]
  },
  {
   "cell_type": "code",
   "execution_count": null,
   "metadata": {},
   "outputs": [],
   "source": [
    "#df_sale_regional\n",
    "\n",
    "\n",
    "\n",
    "df_sale_local.set_index('family', inplace=True)\n",
    "\n",
    "\n",
    "plt.figure(figsize=(12, 8))\n",
    "sns.heatmap(df_sale_local, annot=True, cmap='coolwarm', fmt=\".2f\",\n",
    "            vmin=-1, vmax = 3)\n",
    "plt.title(\"Ratio of Sales During Local Holidays vs Non holidays\", fontsize=16)\n",
    "plt.xlabel(\"Holiday\")\n",
    "plt.ylabel(\"Family\")\n",
    "plt.xticks(rotation=45, ha=\"right\")\n",
    "plt.tight_layout()"
   ]
  },
  {
   "cell_type": "markdown",
   "metadata": {},
   "source": [
    "### Local holiday summary\n",
    "\n",
    "There're some single sales boost, may or may not be related to holiday itself. For example. the school supplies sale are highly dependent on the time of the year. \n",
    "\n",
    "fundacion de quito has a huge boost for sales of all kind: \n",
    "The Foundation of Quito is celebrated on December 6, commemorating the founding of the city by Spanish conquistadors in 1534. Known as \"Fiestas de Quito,\" this is one of the most vibrant and widely celebrated holidays in Ecuador.\n",
    "\n",
    "In general, liquor and wine can be boosted by holidays, but not always. Celebration sales are not boosted as expected. \n",
    "\n",
    "A lot of these holidays invovles street party, parades, and other celebrations. The sales boost in preparation of the holidays may happens before the holidays. \n",
    "\n",
    "Another possibility is that the supplies for these holidays are not purchased in grocery stores. \n",
    "\n",
    "- Conclusion: \n",
    "  \n",
    "  The correlation between local holidays and sales are not simple and straight forward, and it can happen before the holidiays. \n",
    "\n"
   ]
  },
  {
   "cell_type": "code",
   "execution_count": null,
   "metadata": {},
   "outputs": [],
   "source": []
  },
  {
   "cell_type": "code",
   "execution_count": null,
   "metadata": {},
   "outputs": [],
   "source": []
  },
  {
   "cell_type": "code",
   "execution_count": null,
   "metadata": {},
   "outputs": [],
   "source": [
    "# Finally for national \n",
    "\n",
    "# Take sub Data frames \n",
    "#df_non_hol = df[(df.hol_Nat == 0) & (df.hol_Reg == 0) & (df.hol_Loc == 0) &  (df.event == 0)]\n",
    "#df_hol_all = df[(df.hol_Nat == 1) | (df.hol_Reg == 1) | (df.hol_Loc == 1) ]\n",
    "# df_hol_true = df_hol_all[ df_hol_all.transferred == False  ]  # Get rid of the transferred holidays\n",
    "\n",
    "\n",
    "# Initiate the df \n",
    "all_items = df['family'].unique()\n",
    "df_sale_nat = pd.DataFrame({'family': all_items})\n",
    "\n",
    "\n",
    "for hol in df_hol_true.hol_Nat_name.unique():\n",
    "    if  pd.isna(hol):\n",
    "        print(\"Empty holiday name:\", hol)\n",
    "        continue\n",
    "    # Calculate the average for each item: \n",
    "    \n",
    "    for item in all_items:\n",
    "\n",
    "        # Average sales during the holiday\n",
    "        average_sales_hol = df_hol_true.loc[(df_hol_true.family == item) & (df_hol_true.hol_Nat_name == hol) & (df_hol_true.sales != 0),'sales'].mean()\n",
    "        # Average sales for the same state during non-holiday times\n",
    "        average_sales_non = df_non_hol.loc[(df.family == item)  &  (df.sales != 0) , 'sales'].mean()\n",
    "        # Calculate the percentage change and update the DataFrame\n",
    "        df_sale_nat.loc[df_sale_nat['family'] == item, hol] = (average_sales_hol / average_sales_non)\n",
    "#print(df_sale)\n"
   ]
  },
  {
   "cell_type": "code",
   "execution_count": null,
   "metadata": {},
   "outputs": [],
   "source": [
    "\n",
    "\n",
    "df_sale_nat.set_index('family', inplace=True)  # If run this cell again, comment this line. \n",
    "\n",
    "\n",
    "plt.figure(figsize=(12, 8))\n",
    "sns.heatmap(df_sale_nat, annot=True, cmap='coolwarm', fmt=\".2f\",vmin = -1, vmax = 3)\n",
    "plt.title(\"Ratio of Sales During National Holidays vs Non holidays (Not Transferred)\", fontsize=16)\n",
    "plt.xlabel(\"Holiday\")\n",
    "plt.ylabel(\"Family\")\n",
    "plt.xticks(rotation=45, ha=\"right\")\n",
    "plt.tight_layout()"
   ]
  },
  {
   "cell_type": "markdown",
   "metadata": {},
   "source": [
    "### National holidays \n",
    "\n",
    "The correlation is much more obvious. \n",
    "\n",
    "- There's a sale boost for frozen food during the Christmas-new year season. Also for kitchen and grocery stuff. People are all doing family cooking at this time. \n",
    "- Almost all sales are boosted slightly during the Christmas-new year season. \n",
    "- There's a strong sale increase for baby care at recupero puente navidad (the holiday bridge), not sure if there's any reason for this. \n",
    "- Liquor, wine and beer got boosted sales for almost all holidays. Especially for \"primer dia de ano \", the new year.\n",
    "- The sales increase for school supplies and garden supplies are likely due to seasonality rather than holiday itself."
   ]
  },
  {
   "cell_type": "code",
   "execution_count": null,
   "metadata": {},
   "outputs": [],
   "source": [
    "# Finally for national \n",
    "\n",
    "# Take sub Data frames \n",
    "#df_non_hol = df[(df.hol_Nat == 0) & (df.hol_Reg == 0) & (df.hol_Loc == 0) &  (df.event == 0)]\n",
    "df_hol_event = df[df.event == 1 ]\n",
    "\n",
    "\n",
    "# Initiate the df \n",
    "all_items = df['family'].unique()\n",
    "df_sale_event = pd.DataFrame({'family': all_items})\n",
    "\n",
    "\n",
    "for hol in df_hol_event.hol_event_name.unique()[:13]:\n",
    "    if  pd.isna(hol):\n",
    "        print(\"Empty holiday name:\", hol)\n",
    "        continue\n",
    "    # Calculate the average for each item: \n",
    "    \n",
    "    for item in all_items:\n",
    "\n",
    "        # Average sales during the holiday\n",
    "        average_sales_hol = df_hol_event.loc[(df_hol_event.family == item) & (df_hol_event.hol_event_name == hol) & (df_hol_event.sales != 0),'sales'].mean()\n",
    "        # Average sales for the same state during non-holiday times\n",
    "        average_sales_non = df_non_hol.loc[(df.family == item)  &  (df.sales != 0) , 'sales'].mean()\n",
    "        # Calculate the percentage change and update the DataFrame\n",
    "        df_sale_event.loc[df_sale_event['family'] == item, hol] = (average_sales_hol / average_sales_non)\n",
    "\n"
   ]
  },
  {
   "cell_type": "code",
   "execution_count": null,
   "metadata": {},
   "outputs": [],
   "source": [
    "\n",
    "\n",
    "df_sale_event.set_index('family', inplace=True)  # If run this cell again, comment this line. \n",
    "\n",
    "\n",
    "plt.figure(figsize=(12, 8))\n",
    "sns.heatmap(df_sale_event, annot=True, cmap='coolwarm', fmt=\".2f\",vmin = -1, vmax = 3)\n",
    "plt.title(\"Ratio of Sales During Events vs Non holidays\", fontsize=16)\n",
    "plt.xlabel(\"Holiday\")\n",
    "plt.ylabel(\"Family\")\n",
    "plt.xticks(rotation=45, ha=\"right\")\n",
    "plt.tight_layout()"
   ]
  },
  {
   "cell_type": "markdown",
   "metadata": {},
   "source": [
    "### Events affect. \n",
    "\n",
    "- For football games, people like to purchase more drinks, especially alcohol. "
   ]
  },
  {
   "cell_type": "code",
   "execution_count": null,
   "metadata": {},
   "outputs": [],
   "source": [
    "\n",
    "# Take sub Data frames \n",
    "#df_non_hol = df[(df.hol_Nat == 0) & (df.hol_Reg == 0) & (df.hol_Loc == 0) &  (df.event == 0)]\n",
    "df_hol_event = df[df.event == 1 ]\n",
    "\n",
    "\n",
    "# Initiate the df \n",
    "all_items = df['family'].unique()\n",
    "df_sale_eq = pd.DataFrame({'family': all_items})\n",
    "\n",
    "\n",
    "for hol in df_hol_event.hol_event_name.unique()[13:]:\n",
    "    if  pd.isna(hol):\n",
    "        print(\"Empty holiday name:\", hol)\n",
    "        continue\n",
    "    # Calculate the average for each item: \n",
    "    \n",
    "    for item in all_items:\n",
    "\n",
    "        # Average sales during the holiday\n",
    "        average_sales_hol = df_hol_event.loc[(df_hol_event.family == item) & (df_hol_event.hol_event_name == hol) & (df_hol_event.sales != 0),'sales'].mean()\n",
    "        # Average sales for the same state during non-holiday times\n",
    "        average_sales_non = df_non_hol.loc[(df.family == item)  &  (df.sales != 0) , 'sales'].mean()\n",
    "        # Calculate the percentage change and update the DataFrame\n",
    "        df_sale_eq.loc[df_sale_eq['family'] == item, hol] = (average_sales_hol / average_sales_non)\n",
    "\n"
   ]
  },
  {
   "cell_type": "code",
   "execution_count": 28,
   "metadata": {},
   "outputs": [
    {
     "ename": "NameError",
     "evalue": "name 'df_sale_eq' is not defined",
     "output_type": "error",
     "traceback": [
      "\u001b[0;31m---------------------------------------------------------------------------\u001b[0m",
      "\u001b[0;31mNameError\u001b[0m                                 Traceback (most recent call last)",
      "Cell \u001b[0;32mIn[28], line 1\u001b[0m\n\u001b[0;32m----> 1\u001b[0m \u001b[43mdf_sale_eq\u001b[49m\u001b[38;5;241m.\u001b[39mset_index(\u001b[38;5;124m'\u001b[39m\u001b[38;5;124mfamily\u001b[39m\u001b[38;5;124m'\u001b[39m, inplace\u001b[38;5;241m=\u001b[39m\u001b[38;5;28;01mTrue\u001b[39;00m)  \u001b[38;5;66;03m# If run this cell again, comment this line. \u001b[39;00m\n\u001b[1;32m      4\u001b[0m plt\u001b[38;5;241m.\u001b[39mfigure(figsize\u001b[38;5;241m=\u001b[39m(\u001b[38;5;241m12\u001b[39m, \u001b[38;5;241m8\u001b[39m))\n\u001b[1;32m      5\u001b[0m sns\u001b[38;5;241m.\u001b[39mheatmap(df_sale_eq, annot\u001b[38;5;241m=\u001b[39m\u001b[38;5;28;01mTrue\u001b[39;00m, cmap\u001b[38;5;241m=\u001b[39m\u001b[38;5;124m'\u001b[39m\u001b[38;5;124mcoolwarm\u001b[39m\u001b[38;5;124m'\u001b[39m, fmt\u001b[38;5;241m=\u001b[39m\u001b[38;5;124m\"\u001b[39m\u001b[38;5;124m.2f\u001b[39m\u001b[38;5;124m\"\u001b[39m,vmin \u001b[38;5;241m=\u001b[39m \u001b[38;5;241m-\u001b[39m\u001b[38;5;241m1\u001b[39m, vmax \u001b[38;5;241m=\u001b[39m \u001b[38;5;241m3\u001b[39m)\n",
      "\u001b[0;31mNameError\u001b[0m: name 'df_sale_eq' is not defined"
     ]
    }
   ],
   "source": [
    "\n",
    "\n",
    "df_sale_eq.set_index('family', inplace=True)  # If run this cell again, comment this line. \n",
    "\n",
    "\n",
    "plt.figure(figsize=(12, 8))\n",
    "sns.heatmap(df_sale_eq, annot=True, cmap='coolwarm', fmt=\".2f\",vmin = -1, vmax = 3)\n",
    "plt.title(\"Ratio of Sales During Earth Quake vs Non Holidays\", fontsize=16)\n",
    "plt.xlabel(\"Holiday\")\n",
    "plt.ylabel(\"Family\")\n",
    "plt.xticks(rotation=45, ha=\"right\")\n",
    "plt.tight_layout()"
   ]
  },
  {
   "cell_type": "markdown",
   "metadata": {},
   "source": [
    "Events: earth quake: \n",
    "\n",
    "I don't see a huge decrease of sales for earth quake. "
   ]
  },
  {
   "cell_type": "markdown",
   "metadata": {},
   "source": [
    "Check the some for the local festivals "
   ]
  },
  {
   "cell_type": "markdown",
   "metadata": {},
   "source": [
    "# Plot to see it all \n",
    "\n",
    "The following plot marks the sales overtime by family  with labels of events and national holidays. \n",
    "\n",
    "Since it's the sales for all the stores, I didn't include regional or local holidays. \n",
    "\n",
    "\"On promotion\" Would be a good info to add as well but promotion is also store-dependant. "
   ]
  },
  {
   "cell_type": "code",
   "execution_count": null,
   "metadata": {},
   "outputs": [],
   "source": [
    "# holidays[holidays.type == 'Event']"
   ]
  },
  {
   "cell_type": "code",
   "execution_count": null,
   "metadata": {},
   "outputs": [],
   "source": [
    "#To make the following plot: \n",
    "\n",
    "# Map numeric day_of_week to abbreviated names\n",
    "day_mapping = {\n",
    "    0: 'Mon',\n",
    "    1: 'Tue',\n",
    "    2: 'Wed',\n",
    "    3: 'Thu',\n",
    "    4: 'Fri',\n",
    "    5: 'Sat',\n",
    "    6: 'Sun'\n",
    "}\n",
    "\n",
    "# Replace numeric day_of_week with abbreviated names\n",
    "df['day_of_week'] = df['day_of_week'].map(day_mapping)"
   ]
  },
  {
   "cell_type": "code",
   "execution_count": null,
   "metadata": {},
   "outputs": [],
   "source": [
    "import plotly.graph_objects as go\n",
    "\n",
    "# Ensure 'date' is in datetime format\n",
    "df['date'] = pd.to_datetime(df['date'])\n",
    "\n",
    "# Iterate through each item in the 'family' column\n",
    "for item in df['family'].unique():\n",
    "    # Filter data for the specific family\n",
    "    grouped_sales = df[df['family'] == item].groupby('date')['sales'].sum().reset_index()\n",
    "\n",
    "\n",
    "    # Create a line plot for sales\n",
    "    fig = go.Figure()\n",
    "\n",
    "    # Add sales data as a line\n",
    "    fig.add_trace(go.Scatter(\n",
    "        x=grouped_sales['date'],\n",
    "        y=grouped_sales['sales'],\n",
    "        mode='lines',\n",
    "        name='Sales',\n",
    "        line=dict(color='blue'),\n",
    "        showlegend=False  # Disable legend for this trace\n",
    "    ))\n",
    "\n",
    "    # Add semi-transparent vertical lines for events with holiday names\n",
    "    event_data = df[df['event'] == 1][['date', 'hol_event_name']].drop_duplicates()\n",
    "    for _, row in event_data.iterrows():\n",
    "        holiday_date = row['date']\n",
    "        holiday_name = row['hol_event_name']\n",
    "\n",
    "        fig.add_trace(go.Scatter(\n",
    "            x=[holiday_date, holiday_date],\n",
    "            y=[0, grouped_sales['sales'].max()],\n",
    "            mode='lines',\n",
    "            line=dict(color='red', dash='dash'),\n",
    "            hoverinfo='text',\n",
    "            text=f\"{holiday_name} ({holiday_date.date()})\",\n",
    "            opacity=0.3,  # Set transparency to 50%\n",
    "            showlegend=False  # Disable legend for this trace\n",
    "        ))\n",
    "    \n",
    "    # Add semi-transparent vertical lines for holidays with holiday names\n",
    "    holiday_data = df[df['hol_Nat'] == 1][['date', 'hol_Nat_name']].drop_duplicates()\n",
    "    for _, row in holiday_data.iterrows():\n",
    "        holiday_date = row['date']\n",
    "        holiday_name = row['hol_Nat_name']\n",
    "\n",
    "        fig.add_trace(go.Scatter(\n",
    "            x=[holiday_date, holiday_date],\n",
    "            y=[0, grouped_sales['sales'].max()],\n",
    "            mode='lines',\n",
    "            line=dict(color='green', dash='dash'),\n",
    "            hoverinfo='text',\n",
    "            text=f\"{holiday_name} ({holiday_date.date()})\",\n",
    "            opacity=0.3,  # Set transparency to 50%\n",
    "            showlegend=False  # Disable legend for this trace\n",
    "        ))\n",
    "\n",
    "    # Add transparent vertical lines for holidays with day of the week\n",
    "    week_data = df[['date', 'day_of_week']].drop_duplicates()\n",
    "    for _, row in week_data.iterrows():\n",
    "        holiday_date = row['date']\n",
    "        weekname = row['day_of_week']\n",
    "\n",
    "        fig.add_trace(go.Scatter(\n",
    "            x=[holiday_date, holiday_date],\n",
    "            y=[0, grouped_sales['sales'].max()],\n",
    "            mode='lines',\n",
    "            line=dict(color='green', dash='dash'),\n",
    "            hoverinfo='text',\n",
    "            text=f\"{weekname} ({holiday_date.date()})\",\n",
    "            opacity=0.0,  # Set transparency to 50%\n",
    "            showlegend=False  # Disable legend for this trace\n",
    "        ))\n",
    "\n",
    "    # Update layout for interactivity and appearance\n",
    "    fig.update_layout(\n",
    "        title=f\"{item} Sales Over Time\",\n",
    "        xaxis_title=\"Date\",\n",
    "        yaxis_title=\"Sales\",\n",
    "        xaxis=dict(showgrid=True),\n",
    "        yaxis=dict(showgrid=True),\n",
    "        template=\"plotly_white\",\n",
    "        hovermode=\"x unified\",  # Show tooltips for all traces at the same x-coordinate\n",
    "        # hovermode=\"x\",\n",
    "        hoverdistance=1,\n",
    "        spikedistance=1,\n",
    "        showlegend=False  # Disable legend for the entire figure\n",
    "    )\n",
    "\n",
    "    # Show the interactive plot\n",
    "    fig.show()\n"
   ]
  },
  {
   "cell_type": "markdown",
   "metadata": {},
   "source": []
  },
  {
   "cell_type": "markdown",
   "metadata": {},
   "source": [
    "Interesting findings: \n",
    "\n",
    "- School sales has strong seasonality. And there's a trend for huge sale increase this year. \n",
    "- There's a peak for lingerie during earth quake. Not sure what happended. "
   ]
  },
  {
   "cell_type": "markdown",
   "metadata": {},
   "source": [
    "## Other topics:\n",
    "\n",
    "How did black friday affect the sales? "
   ]
  },
  {
   "cell_type": "code",
   "execution_count": null,
   "metadata": {},
   "outputs": [],
   "source": [
    "holidays[holidays.description == 'Black Friday']"
   ]
  },
  {
   "cell_type": "markdown",
   "metadata": {},
   "source": [
    "Notice Black Friday is only introduced at 2014. \n",
    "I expect the sales might change over years. "
   ]
  },
  {
   "cell_type": "code",
   "execution_count": null,
   "metadata": {},
   "outputs": [],
   "source": [
    "df_blackfriday = df[df.hol_event_name == 'Black Friday']"
   ]
  },
  {
   "cell_type": "code",
   "execution_count": null,
   "metadata": {},
   "outputs": [],
   "source": []
  },
  {
   "cell_type": "code",
   "execution_count": null,
   "metadata": {},
   "outputs": [],
   "source": [
    "# Initiate the df \n",
    "all_items = df['family'].unique()\n",
    "df_sale_bf = pd.DataFrame({'family': all_items})\n",
    "\n",
    "for year in df_blackfriday.year.unique():\n",
    "    for item in all_items:\n",
    "        sales_bf = df_blackfriday.loc[(df_blackfriday.family == item) & (df_blackfriday.year == year)& (df_blackfriday.sales != 0), 'sales'].mean()\n",
    "        sales_non_holiday = df_non_hol.loc[(df.family == item)  &  (df.sales != 0) , 'sales'].mean()\n",
    "\n",
    "        df_sale_bf.loc[df_sale_bf['family'] == item, year] = (sales_bf / sales_non_holiday)\n"
   ]
  },
  {
   "cell_type": "code",
   "execution_count": null,
   "metadata": {},
   "outputs": [],
   "source": [
    "\n",
    "\n",
    "df_sale_bf.set_index('family', inplace=True)  # If run this cell again, comment this line. \n",
    "\n",
    "\n",
    "plt.figure(figsize=(12, 8))\n",
    "sns.heatmap(df_sale_bf, annot=True, cmap='coolwarm', fmt=\".2f\",vmin = -1, vmax = 3)\n",
    "plt.title(\"Ratio of Sales During BlackFriday vs Non Holidays (Over the years)\", fontsize=16)\n",
    "plt.xlabel(\"Holiday\")\n",
    "plt.ylabel(\"Family\")\n",
    "plt.xticks(rotation=45, ha=\"right\")\n",
    "plt.tight_layout()"
   ]
  },
  {
   "cell_type": "markdown",
   "metadata": {},
   "source": [
    "Not much sales change.\n",
    "\n",
    "Black Friday didn't change the sales too much. Grocery might not be the main shopping choice for black friday. "
   ]
  },
  {
   "cell_type": "code",
   "execution_count": null,
   "metadata": {},
   "outputs": [],
   "source": []
  },
  {
   "cell_type": "code",
   "execution_count": null,
   "metadata": {},
   "outputs": [],
   "source": []
  },
  {
   "cell_type": "code",
   "execution_count": null,
   "metadata": {},
   "outputs": [],
   "source": []
  }
 ],
 "metadata": {
  "kernelspec": {
   "display_name": "erdos_fall_2024",
   "language": "python",
   "name": "python3"
  },
  "language_info": {
   "codemirror_mode": {
    "name": "ipython",
    "version": 3
   },
   "file_extension": ".py",
   "mimetype": "text/x-python",
   "name": "python",
   "nbconvert_exporter": "python",
   "pygments_lexer": "ipython3",
   "version": "3.12.7"
  }
 },
 "nbformat": 4,
 "nbformat_minor": 2
}
