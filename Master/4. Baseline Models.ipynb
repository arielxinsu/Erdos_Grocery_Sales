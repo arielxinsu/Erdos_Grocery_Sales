{
 "cells": [
  {
   "cell_type": "code",
   "execution_count": 37,
   "metadata": {},
   "outputs": [],
   "source": [
    "import numpy as np \n",
    "import pandas as pd"
   ]
  },
  {
   "cell_type": "code",
   "execution_count": 38,
   "metadata": {},
   "outputs": [
    {
     "name": "stderr",
     "output_type": "stream",
     "text": [
      "/var/folders/26/840b8l353yv58xh3z45hs1tc0000gn/T/ipykernel_5658/97445140.py:1: DtypeWarning: Columns (14,16,18,20) have mixed types. Specify dtype option on import or set low_memory=False.\n",
      "  train = pd.read_csv('../data/merged_train.csv')\n",
      "/var/folders/26/840b8l353yv58xh3z45hs1tc0000gn/T/ipykernel_5658/97445140.py:2: DtypeWarning: Columns (14,16,18,20) have mixed types. Specify dtype option on import or set low_memory=False.\n",
      "  train_alt = pd.read_csv('../data/merged_train_alt.csv')\n"
     ]
    }
   ],
   "source": [
    "train = pd.read_csv('../data/merged_train.csv')\n",
    "train_alt = pd.read_csv('../data/merged_train_alt.csv')\n",
    "test = pd.read_csv('../data/merged_test.csv')\n",
    "sample_subm = pd.read_csv('../data/sample_submission.csv')"
   ]
  },
  {
   "cell_type": "markdown",
   "metadata": {},
   "source": [
    "## Baseline Model I: Weighted Mean Sales"
   ]
  },
  {
   "cell_type": "markdown",
   "metadata": {},
   "source": [
    "|  Variable  | Description \n",
    "|:--------|:--------|\n",
    "$D$         |   day of the week (Monday-Sunday)\n",
    "$W$         |   week of the year\n",
    "$S$         |   Favorita store number (1-54)\n",
    "$F$         |   product family, e.g. baby care products\n",
    "$Y$         |   year  (2013, 2014, 2015, 2016)\n",
    "$\\textnormal{Sales}_{D,W,S,F}(Y)$    |   total sales of $F$ products on day $D$, week $W$, store $S$, in the year $Y$.\n",
    "\n",
    "Our baseline model predicts $\\textnormal{Sales}_{D,S,F}(2017)$ using a weighted average of previous years sales.\n",
    "\n",
    "More recent years are more heavily weighted.\n",
    "\n",
    "$$\\textnormal{Sales}_{D,W,S,F}(2017) = \\sum_{Y=2013}^{2016}\\lambda_{Y}\\cdot\\textnormal{Sales}_{D,W,S,F}(Y) \\hspace{0.5in} \\textnormal{where }\\lambda_{Y}=0.1+0.1(Y-2013)$$\n"
   ]
  },
  {
   "cell_type": "code",
   "execution_count": null,
   "metadata": {},
   "outputs": [],
   "source": [
    "years = [2013, 2014, 2015, 2016]\n",
    "\n",
    "for year in years:\n",
    "    # Splits training set by year\n",
    "    # Renames 'sales' column to f'sales_{year}'\n",
    "    df_year = train[train['year'] == year].copy()\n",
    "    df_year = df_year.rename(columns={'sales': f'sales_{year}'})\n",
    "    \n",
    "    # Merge the previous year sales to test data\n",
    "    # Merge along day of the week, week number, store number, and product family\n",
    "    test = test.merge( df_year[['week_number', 'day_of_week', 'store_nbr', 'family', f'sales_{year}']], \n",
    "                            on=['week_number', 'day_of_week', 'store_nbr', 'family'], \n",
    "                            how='left'    \n",
    "    )\n",
    "\n",
    "test['mean_sales'] = 0.1*test['sales_2013']+ 0.2*test['sales_2014']+ 0.3*test['sales_2015']+0.4*test['sales_2016']"
   ]
  },
  {
   "cell_type": "code",
   "execution_count": null,
   "metadata": {},
   "outputs": [],
   "source": [
    "def baseline1_submission():\n",
    "    sample_subm['sales'] = test['mean_sales']\n",
    "    #sample_subm.to_csv('/kaggle/working/submission.csv',index=False)\n",
    "    # it scores 0.90242"
   ]
  },
  {
   "cell_type": "markdown",
   "metadata": {},
   "source": [
    "## Baseline Model II: Rolling Average"
   ]
  },
  {
   "cell_type": "code",
   "execution_count": null,
   "metadata": {},
   "outputs": [],
   "source": [
    "# Reset the testing set\n",
    "test = pd.read_csv('../data/merged_test.csv')\n",
    "\n",
    "# Combine training and testing sets to compute rolling averages\n",
    "df_whole = pd.concat([train, test], ignore_index=True)\n",
    "\n",
    "# Calculate the rolling average\n",
    "avg_sales=df_whole.groupby(['store_nbr', 'family'])['sales'].transform(lambda x: x.rolling(window=30, min_periods=1).mean())\n",
    "\n",
    "# Add rolling averages as a columm\n",
    "df_whole['avg_sales']=avg_sales\n",
    "\n",
    "# Select the testing set dates\n",
    "df_whole[len(train):]"
   ]
  },
  {
   "cell_type": "code",
   "execution_count": null,
   "metadata": {},
   "outputs": [],
   "source": [
    "def baseline2_submission():\n",
    "    sample_subm['sales'] = df_whole['avg_sales'].iloc[len(train):].reset_index(drop=True)\n",
    "    #sample_subm.to_csv('/kaggle/working/submission.csv',index=False)\n",
    "    # it scores 0.46141 "
   ]
  }
 ],
 "metadata": {
  "kernelspec": {
   "display_name": "erdos_fall_2024",
   "language": "python",
   "name": "python3"
  },
  "language_info": {
   "codemirror_mode": {
    "name": "ipython",
    "version": 3
   },
   "file_extension": ".py",
   "mimetype": "text/x-python",
   "name": "python",
   "nbconvert_exporter": "python",
   "pygments_lexer": "ipython3",
   "version": "3.12.5"
  }
 },
 "nbformat": 4,
 "nbformat_minor": 2
}
